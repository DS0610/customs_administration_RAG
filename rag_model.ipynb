{
 "cells": [
  {
   "cell_type": "code",
   "execution_count": 1,
   "id": "6e68390c",
   "metadata": {},
   "outputs": [
    {
     "name": "stderr",
     "output_type": "stream",
     "text": [
      "/Users/yoodongseok/Desktop/rag_project/.venv/lib/python3.12/site-packages/tqdm/auto.py:21: TqdmWarning: IProgress not found. Please update jupyter and ipywidgets. See https://ipywidgets.readthedocs.io/en/stable/user_install.html\n",
      "  from .autonotebook import tqdm as notebook_tqdm\n"
     ]
    }
   ],
   "source": [
    "import pdfplumber, re, redis, numpy as np\n",
    "from sentence_transformers import SentenceTransformer\n",
    "from redis.commands.search.field import TextField, VectorField\n",
    "from redis.commands.search.index_definition import IndexDefinition, IndexType"
   ]
  },
  {
   "cell_type": "code",
   "execution_count": 2,
   "id": "82ae4f9b",
   "metadata": {},
   "outputs": [],
   "source": [
    "# ------------------------------------------------------------\n",
    "# 1️⃣ Redis 연결 + 모델 로드\n",
    "# ------------------------------------------------------------\n",
    "r = redis.Redis(host=\"localhost\", port=6379, decode_responses=False)\n",
    "model = SentenceTransformer(\"jhgan/ko-sroberta-multitask\")\n",
    "\n",
    "RAG_INDEX = \"qa2_index\"  # 새 인덱스명\n",
    "PDF_PATH = \"/Users/yoodongseok/Desktop/rag_project/data/2024 관세행정 민원상담 사례집.pdf\""
   ]
  },
  {
   "cell_type": "code",
   "execution_count": 3,
   "id": "caacf227",
   "metadata": {},
   "outputs": [],
   "source": [
    "# ------------------------------------------------------------\n",
    "# 2️⃣ 임베딩 함수\n",
    "# ------------------------------------------------------------\n",
    "def embed(text: str):\n",
    "    emb = model.encode(text, normalize_embeddings=False)  # ✅ COSINE 호환\n",
    "    return np.array(emb, dtype=np.float32).tobytes()"
   ]
  },
  {
   "cell_type": "code",
   "execution_count": 4,
   "id": "d5bd851f",
   "metadata": {},
   "outputs": [],
   "source": [
    "# ------------------------------------------------------------\n",
    "# 3️⃣ 새 인덱스 초기화\n",
    "# ------------------------------------------------------------\n",
    "def init_rag_index():\n",
    "    try:\n",
    "        r.ft(RAG_INDEX).dropindex(delete_documents=True)\n",
    "        print(f\"🗑️ 기존 {RAG_INDEX} 삭제 완료\")\n",
    "    except Exception:\n",
    "        pass\n",
    "\n",
    "    dim = len(model.encode(\"차원 확인\", normalize_embeddings=False))\n",
    "    r.ft(RAG_INDEX).create_index(\n",
    "        fields=[\n",
    "            VectorField(\"embedding\", \"FLAT\", {\n",
    "                \"TYPE\": \"FLOAT32\",\n",
    "                \"DIM\": dim,\n",
    "                \"DISTANCE_METRIC\": \"COSINE\"\n",
    "            }),\n",
    "            TextField(\"question\"),\n",
    "            TextField(\"answer\")\n",
    "        ],\n",
    "        definition=IndexDefinition(prefix=[\"doc2:\"], index_type=IndexType.HASH)\n",
    "    )\n",
    "    print(f\"✅ {RAG_INDEX} 인덱스 생성 완료\")"
   ]
  },
  {
   "cell_type": "code",
   "execution_count": 5,
   "id": "2292ad8f",
   "metadata": {},
   "outputs": [],
   "source": [
    "# ------------------------------------------------------------\n",
    "# 4️⃣ PDF Q–A 추출 (본문 + 표 포함)\n",
    "# ------------------------------------------------------------\n",
    "def extract_qa_pairs(pdf_path):\n",
    "    qa_pairs = []\n",
    "    with pdfplumber.open(pdf_path) as pdf:\n",
    "        for page_idx, page in enumerate(pdf.pages):\n",
    "            text = page.extract_text() or \"\"\n",
    "            lines = text.split(\"\\n\") if text else []\n",
    "\n",
    "            # 표 추출\n",
    "            tables = page.extract_tables()\n",
    "            table_texts = []\n",
    "            for table in tables:\n",
    "                rows = [\" | \".join([cell if cell else \"\" for cell in row]) for row in table]\n",
    "                table_texts.append(\"\\n\".join(rows))\n",
    "            table_text_block = \"\\n\\n[표 데이터]\\n\" + \"\\n\\n\".join(table_texts) if table_texts else \"\"\n",
    "\n",
    "            merged_text = text + table_text_block\n",
    "\n",
    "            current_q, current_a = None, []\n",
    "            for line in merged_text.split(\"\\n\"):\n",
    "                line = line.strip()\n",
    "                if re.match(r\"^(\\?|관세법|.*\\?)\", line):\n",
    "                    if current_q and current_a:\n",
    "                        qa_pairs.append({\n",
    "                            \"question\": current_q,\n",
    "                            \"answer\": \"\\n\".join(current_a).strip()\n",
    "                        })\n",
    "                    current_q = line\n",
    "                    current_a = []\n",
    "                elif current_q:\n",
    "                    current_a.append(line)\n",
    "\n",
    "            if current_q and current_a:\n",
    "                qa_pairs.append({\n",
    "                    \"question\": current_q,\n",
    "                    \"answer\": \"\\n\".join(current_a).strip()\n",
    "                })\n",
    "    return qa_pairs\n"
   ]
  },
  {
   "cell_type": "code",
   "execution_count": 6,
   "id": "347e8863",
   "metadata": {},
   "outputs": [],
   "source": [
    "# ------------------------------------------------------------\n",
    "# 5️⃣ Redis에 저장 (doc2: prefix)\n",
    "# ------------------------------------------------------------\n",
    "def save_to_rag_index(pdf_path):\n",
    "    qa_list = extract_qa_pairs(pdf_path)\n",
    "    print(f\"📘 PDF에서 {len(qa_list)}개의 QA 추출 완료\")\n",
    "\n",
    "    for i, qa in enumerate(qa_list):\n",
    "        emb = embed(qa[\"question\"])\n",
    "        r.hset(f\"doc2:{i}\", mapping={\n",
    "            \"embedding\": emb,\n",
    "            \"question\": qa[\"question\"],\n",
    "            \"answer\": qa[\"answer\"]\n",
    "        })\n",
    "\n",
    "    print(f\"💾 Redis에 {len(qa_list)}개의 QA 저장 완료 ({RAG_INDEX})\")"
   ]
  },
  {
   "cell_type": "code",
   "execution_count": 7,
   "id": "50254716",
   "metadata": {},
   "outputs": [
    {
     "name": "stdout",
     "output_type": "stream",
     "text": [
      "✅ qa2_index 인덱스 생성 완료\n",
      "📘 PDF에서 1000개의 QA 추출 완료\n",
      "💾 Redis에 1000개의 QA 저장 완료 (qa2_index)\n"
     ]
    }
   ],
   "source": [
    "# ------------------------------------------------------------\n",
    "# 6️⃣ 실행\n",
    "# ------------------------------------------------------------\n",
    "if __name__ == \"__main__\":\n",
    "    init_rag_index()\n",
    "    save_to_rag_index(PDF_PATH)"
   ]
  },
  {
   "cell_type": "code",
   "execution_count": null,
   "id": "06c59159",
   "metadata": {},
   "outputs": [],
   "source": []
  }
 ],
 "metadata": {
  "kernelspec": {
   "display_name": ".venv",
   "language": "python",
   "name": "python3"
  },
  "language_info": {
   "codemirror_mode": {
    "name": "ipython",
    "version": 3
   },
   "file_extension": ".py",
   "mimetype": "text/x-python",
   "name": "python",
   "nbconvert_exporter": "python",
   "pygments_lexer": "ipython3",
   "version": "3.12.10"
  }
 },
 "nbformat": 4,
 "nbformat_minor": 5
}
