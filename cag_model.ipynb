{
 "cells": [
  {
   "cell_type": "code",
   "execution_count": 111,
   "id": "2c98f35e",
   "metadata": {},
   "outputs": [],
   "source": [
    "import pdfplumber, re, redis, numpy as np, json, requests\n",
    "from sentence_transformers import SentenceTransformer\n",
    "from redis.commands.search.field import TextField, VectorField\n",
    "from redis.commands.search.index_definition import IndexDefinition, IndexType\n",
    "from redis.commands.search.query import Query\n",
    "from collections import deque"
   ]
  },
  {
   "cell_type": "code",
   "execution_count": 112,
   "id": "2631c691",
   "metadata": {},
   "outputs": [],
   "source": [
    "# ============================================================\n",
    "# 1️⃣ Redis & 모델 초기화\n",
    "# ============================================================\n",
    "r = redis.Redis(host=\"localhost\", port=6379, decode_responses=False)\n",
    "model = SentenceTransformer(\"jhgan/ko-sroberta-multitask\")\n",
    "\n",
    "CACHE_INDEX = \"cache_index\"   # 캐시 인덱스\n",
    "RAG_INDEX = \"qa2_index\"        # RAG 인덱스\n",
    "user_cache = deque(maxlen=5)  # Dynamic Cache (최근 5개)"
   ]
  },
  {
   "cell_type": "code",
   "execution_count": 113,
   "id": "c3e56a91",
   "metadata": {},
   "outputs": [],
   "source": [
    "# ------------------------------------------------------------\n",
    "# 2️⃣ 임베딩 함수 (정규화 비활성화: Redis COSINE과 호환)\n",
    "# ------------------------------------------------------------\n",
    "def embed(text: str):\n",
    "    # 🚀 중요: normalize_embeddings=False → Redis COSINE 계산 정확도 향상\n",
    "    emb = model.encode(text, normalize_embeddings=False)\n",
    "    return np.array(emb, dtype=np.float32).tobytes()"
   ]
  },
  {
   "cell_type": "code",
   "execution_count": 114,
   "id": "22025910",
   "metadata": {},
   "outputs": [
    {
     "name": "stdout",
     "output_type": "stream",
     "text": [
      "🗑️ 기존 cache_index 삭제 완료\n",
      "✅ cache_index 인덱스 생성 완료\n"
     ]
    }
   ],
   "source": [
    "# ------------------------------------------------------------\n",
    "# 3️⃣ 캐시 인덱스 초기화 (기존 인덱스 삭제 후 재생성)\n",
    "# ------------------------------------------------------------\n",
    "def init_cache_index(force_recreate=True):\n",
    "    if force_recreate:\n",
    "        try:\n",
    "            r.ft(CACHE_INDEX).dropindex(delete_documents=True)\n",
    "            print(\"🗑️ 기존 cache_index 삭제 완료\")\n",
    "        except Exception:\n",
    "            pass\n",
    "\n",
    "    try:\n",
    "        r.ft(CACHE_INDEX).info()\n",
    "        print(\"ℹ️ cache_index 이미 존재 (재사용)\")\n",
    "    except:\n",
    "        dim = len(model.encode(\"차원 확인\", normalize_embeddings=False))\n",
    "        r.ft(CACHE_INDEX).create_index(\n",
    "            fields=[\n",
    "                VectorField(\"embedding\", \"FLAT\", {\n",
    "                    \"TYPE\": \"FLOAT32\",\n",
    "                    \"DIM\": dim,\n",
    "                    \"DISTANCE_METRIC\": \"COSINE\"   # ✅ COSINE + 비정규화 벡터 조합\n",
    "                }),\n",
    "                TextField(\"text\"),\n",
    "                TextField(\"source\")\n",
    "            ],\n",
    "            definition=IndexDefinition(prefix=[\"cache:\"], index_type=IndexType.HASH)\n",
    "        )\n",
    "        print(\"✅ cache_index 인덱스 생성 완료\")\n",
    "\n",
    "init_cache_index()"
   ]
  },
  {
   "cell_type": "code",
   "execution_count": 115,
   "id": "fb52eca3",
   "metadata": {},
   "outputs": [],
   "source": [
    "# ------------------------------------------------------------\n",
    "# 4️⃣ PDF Q–A 파싱 (본문 + 표 포함)\n",
    "# ------------------------------------------------------------\n",
    "PDF_PATH = \"/Users/yoodongseok/Desktop/rag_project/data/2024 관세행정 민원상담 사례집.pdf\"\n",
    "\n",
    "def extract_qa_pairs(pdf_path):\n",
    "    qa_pairs = []\n",
    "    with pdfplumber.open(pdf_path) as pdf:\n",
    "        for page_idx, page in enumerate(pdf.pages):\n",
    "            text = page.extract_text() or \"\"\n",
    "            lines = text.split(\"\\n\") if text else []\n",
    "\n",
    "            # 표 추출\n",
    "            tables = page.extract_tables()\n",
    "            table_texts = []\n",
    "            for table in tables:\n",
    "                rows = [\" | \".join([cell if cell else \"\" for cell in row]) for row in table]\n",
    "                table_texts.append(\"\\n\".join(rows))\n",
    "            table_text_block = \"\\n\\n[표 데이터]\\n\" + \"\\n\\n\".join(table_texts) if table_texts else \"\"\n",
    "\n",
    "            merged_text = text + table_text_block\n",
    "\n",
    "            current_q, current_a = None, []\n",
    "            for line in merged_text.split(\"\\n\"):\n",
    "                line = line.strip()\n",
    "                if re.match(r\".*(\\?|？|궁금합니다\\.?|알려주세요\\.?|무엇인가요\\.?|어떻게.*|대해\\s*설명.*|요약.*|문의(?:합니다|드립니다)\\.?|설명(?:해\\s*주|하여\\s*주|바랍니다)\\.?|알고\\s*싶.*|요청(?:합니다|드립니다)\\.?|유의사항$|절차$|방법$|기준$|대상$|요건$|처리$|신고$|수입$|수출$|반입$|검사$|허가$|확인$|통관$)$\", line):\n",
    "                    if current_q and current_a:\n",
    "                        qa_pairs.append({\n",
    "                            \"question\": current_q,\n",
    "                            \"answer\": \"\\n\".join(current_a).strip()\n",
    "                        })\n",
    "                    current_q = line\n",
    "                    current_a = []\n",
    "                elif current_q:\n",
    "                    current_a.append(line)\n",
    "\n",
    "            if current_q and current_a:\n",
    "                qa_pairs.append({\n",
    "                    \"question\": current_q,\n",
    "                    \"answer\": \"\\n\".join(current_a).strip()\n",
    "                })\n",
    "\n",
    "    return qa_pairs"
   ]
  },
  {
   "cell_type": "code",
   "execution_count": 116,
   "id": "4829a4b4",
   "metadata": {},
   "outputs": [
    {
     "name": "stdout",
     "output_type": "stream",
     "text": [
      "📘 PDF에서 1337개의 QA 추출 완료\n",
      "💾 Redis에 1337개 Pre-Cache 저장 완료\n"
     ]
    }
   ],
   "source": [
    "# ------------------------------------------------------------\n",
    "# 5️⃣ Pre-Cache (PDF → Redis 저장)\n",
    "# ------------------------------------------------------------\n",
    "def pre_cache_pdf(pdf_path):\n",
    "    qa_list = extract_qa_pairs(pdf_path)\n",
    "    print(f\"📘 PDF에서 {len(qa_list)}개의 QA 추출 완료\")\n",
    "\n",
    "    for i, qa in enumerate(qa_list):\n",
    "        key = f\"cache:pdf:{i}\"\n",
    "        r.hset(key, mapping={\n",
    "            \"embedding\": embed(qa[\"question\"]),\n",
    "            \"text\": qa[\"answer\"],\n",
    "            \"source\": \"pdf_pre_cache\"\n",
    "        })\n",
    "    print(f\"💾 Redis에 {len(qa_list)}개 Pre-Cache 저장 완료\")\n",
    "\n",
    "pre_cache_pdf(PDF_PATH)\n"
   ]
  },
  {
   "cell_type": "code",
   "execution_count": 117,
   "id": "c568b058",
   "metadata": {},
   "outputs": [],
   "source": [
    "# ------------------------------------------------------------\n",
    "# 6️⃣ 캐시 검색 (CAG)\n",
    "# ------------------------------------------------------------\n",
    "def check_cache(user_query, k=3, threshold=0.7):\n",
    "    q_emb = embed(user_query)\n",
    "    q = Query(f\"*=>[KNN {k} @embedding $vec AS score]\") \\\n",
    "        .return_fields(\"text\", \"source\", \"score\") \\\n",
    "        .sort_by(\"score\") \\\n",
    "        .dialect(2)\n",
    "\n",
    "    try:\n",
    "        res = r.ft(CACHE_INDEX).search(q, query_params={\"vec\": q_emb})\n",
    "    except Exception as e:\n",
    "        print(\"❌ 캐시 검색 오류:\", e)\n",
    "        return None\n",
    "\n",
    "    if not res.docs:\n",
    "        print(\"❌ 캐시에서 유사 문서 없음\")\n",
    "        return None\n",
    "\n",
    "    # 유사도 계산\n",
    "    sim = 1 - float(res.docs[0].score)\n",
    "    print(f\"📊 유사도 점수: {sim:.2f}\")\n",
    "    if sim >= threshold:\n",
    "        print(f\"⚡ 캐시 HIT (유사도 {sim:.2f}) [source={res.docs[0].source}]\")\n",
    "        return res.docs[0].text\n",
    "    else:\n",
    "        print(f\"❌ 캐시 MISS (유사도 {sim:.2f} < {threshold})\")\n",
    "    return None"
   ]
  },
  {
   "cell_type": "code",
   "execution_count": 118,
   "id": "864c3ad9",
   "metadata": {},
   "outputs": [],
   "source": [
    "# ------------------------------------------------------------\n",
    "# 7️⃣ Dynamic Cache 저장 (최근 5개 유지)\n",
    "# ------------------------------------------------------------\n",
    "def save_dynamic_cache(query, answer):\n",
    "    key = f\"cache:dyn:{abs(hash(query)) % (10**8)}\"\n",
    "    r.hset(key, mapping={\n",
    "        \"embedding\": embed(query),\n",
    "        \"text\": answer,\n",
    "        \"source\": \"dynamic_cache\"\n",
    "    })\n",
    "    user_cache.append(key)\n",
    "    if len(user_cache) > user_cache.maxlen:\n",
    "        oldest = user_cache.popleft()\n",
    "        r.delete(oldest)\n",
    "        print(f\"🗑️ 오래된 캐시 삭제: {oldest}\")\n",
    "    print(f\"💾 Dynamic Cache 저장: {query[:30]}...\")"
   ]
  },
  {
   "cell_type": "code",
   "execution_count": 119,
   "id": "9a77ac70",
   "metadata": {},
   "outputs": [],
   "source": [
    "# ------------------------------------------------------------\n",
    "# 8️⃣ RAG 검색 (qa_index에서 검색)\n",
    "# ------------------------------------------------------------\n",
    "def search_rag_context(query, k=3):\n",
    "    q_emb = embed(query)\n",
    "    q = Query(f\"*=>[KNN {k} @embedding $vec AS score]\") \\\n",
    "        .return_fields(\"answer\", \"score\") \\\n",
    "        .sort_by(\"score\") \\\n",
    "        .dialect(2)\n",
    "    try:\n",
    "        res = r.ft(RAG_INDEX).search(q, query_params={\"vec\": q_emb})\n",
    "        return [doc.answer for doc in res.docs]\n",
    "    except Exception as e:\n",
    "        print(\"❌ RAG 검색 오류:\", e)\n",
    "        return []"
   ]
  },
  {
   "cell_type": "code",
   "execution_count": 120,
   "id": "0097480e",
   "metadata": {},
   "outputs": [],
   "source": [
    "# ------------------------------------------------------------\n",
    "# 9️⃣ Llama3.2 (Ollama) 호출\n",
    "# ------------------------------------------------------------\n",
    "def call_llm_with_context(query, contexts):\n",
    "    context_text = \"\\n\\n\".join(contexts)\n",
    "    prompt = f\"\"\"\n",
    "    너는 관세행정 민원상담 전문 챗봇이야.\n",
    "    절대 영어로 답변하지 마. 반드시 모든 문장은 **100% 자연스러운 한국어**로 작성해.\n",
    "    영어가 포함된 문서가 있더라도, 네가 이해한 내용을 한국어로만 설명해.\n",
    "\n",
    "    [문서 내용]\n",
    "    {context_text}\n",
    "\n",
    "    [질문]\n",
    "    {query}\n",
    "    \"\"\"\n",
    "\n",
    "\n",
    "    url = \"http://localhost:11434/api/generate\"\n",
    "    payload = {\"model\": \"llama3.2:3b\", \"prompt\": prompt}\n",
    "\n",
    "    response_text = \"\"\n",
    "    with requests.post(url, json=payload, stream=True) as r_:\n",
    "        for line in r_.iter_lines():\n",
    "            if line:\n",
    "                data = json.loads(line.decode(\"utf-8\"))\n",
    "                if \"response\" in data:\n",
    "                    response_text += data[\"response\"]\n",
    "                if data.get(\"done\", False):\n",
    "                    break\n",
    "    return response_text.strip()"
   ]
  },
  {
   "cell_type": "code",
   "execution_count": 121,
   "id": "efa69816",
   "metadata": {},
   "outputs": [],
   "source": [
    "# ------------------------------------------------------------\n",
    "# 🔟 전체 파이프라인 (CAG → RAG → LLM → Dynamic Cache)\n",
    "def ask(query):\n",
    "    print(f\"\\n👤 사용자 질문: {query}\")\n",
    "\n",
    "    cached = check_cache(query)\n",
    "    if cached:\n",
    "        return f\"(캐시 응답)\\n{cached}\"\n",
    "\n",
    "    print(\"💡 캐시 MISS → RAG 검색 중...\")\n",
    "    contexts = search_rag_context(query)\n",
    "    if not contexts:\n",
    "        return \"❌ 관련 문서를 찾지 못했습니다.\"\n",
    "\n",
    "    print(\"🤖 Llama3.2 응답 생성 중...\")\n",
    "    answer = call_llm_with_context(query, contexts)\n",
    "    save_dynamic_cache(query, answer)\n",
    "\n",
    "    return f\"(새로 생성된 응답)\\n{answer}\"\n"
   ]
  },
  {
   "cell_type": "code",
   "execution_count": 50,
   "id": "74d3c1b9",
   "metadata": {},
   "outputs": [
    {
     "name": "stdout",
     "output_type": "stream",
     "text": [
      "\n",
      "👤 사용자 질문: 요즘 담배값이 많이 올라서 기회가 되면 최대한 구매하고 싶습니다. 얼마나 살 수 있나요?\n",
      "📊 유사도 점수: 0.74\n",
      "⚡ 캐시 HIT (유사도 0.74) [source=pdf_pre_cache]\n",
      "(캐시 응답)\n",
      "여행자가 휴대반입하는 담배는 궐련 200개비, 엽궐련 50개비, 전자담배\n",
      "니코틴 용액(니코틴함량 1%이하) 20ml 이하 등 한가지 품목에 대해서만\n",
      "면세 처리됩니다.\n",
      "- 단, 만 19세 미만인 사람(만 19세가 되는 해의 1월 1일을 맞이한 사람은\n",
      "제외)이 반입하는 담배는 면세대상에 포함되지 않습니다.\n",
      "담배는 여행자 휴대품 기본면세범위(US$800)에서 제외되어 별도로\n",
      "면세처리 됩니다. 면세범위 초과 시 관세, 부가가치세, 개별소비세 외에\n",
      "지방세(담배소비세, 지방교육세)가 부과됩니다.\n",
      "담배의 종류 종류별 면세범위 비 고\n",
      "• 궐련 • 200개비\n",
      "• 엽궐련 • 50개비\n",
      "• 1인당 기본면세범위(US$800)와는\n",
      "• 궐련형 200개비\n",
      "별도로 면세\n",
      "• 전자담배 • 니코틴용액* 20㎖\n",
      "• 수량기준으로 가격제한 없음\n",
      "• 기타 유형 110g\n",
      "• 한 종류만 해당\n",
      "• 그 밖의 담배 • 250g\n",
      "* 니코틴 용액 : 니코틴 함량 1% 미만일 경우만 가능(화학물질관리법) \\\n",
      "관련법령\n",
      "● 관세법 시행규칙 제48조\n",
      "PART 1 통 관|205\n",
      "\n",
      "[표 데이터]\n",
      "\n",
      "통\n",
      "관\n",
      "\n",
      "담배의 종류 | 종류별 면세범위 | 비 고\n",
      "| • 200개비 |\n",
      "| • 50개비 |\n",
      "| • 궐련형 200개비\n",
      "• 니코틴용액* 20㎖\n",
      "• 기타 유형 110g |\n",
      "| • 250g |\n"
     ]
    }
   ],
   "source": [
    "print(ask(\"요즘 담배값이 많이 올라서 기회가 되면 최대한 구매하고 싶습니다. 얼마나 살 수 있나요?\"))"
   ]
  },
  {
   "cell_type": "code",
   "execution_count": 17,
   "id": "7067fee6",
   "metadata": {},
   "outputs": [
    {
     "name": "stdout",
     "output_type": "stream",
     "text": [
      "\n",
      "👤 사용자 질문: 자가용 보세창고를 운영하고 싶습니다. 관련 절차가 궁금합니다.\n",
      "📊 유사도 점수: 1.00\n",
      "⚡ 캐시 HIT (유사도 1.00) [source=pdf_pre_cache]\n",
      "(캐시 응답)\n",
      "자가용보세창고를 운영하고자 하는 자는 ｢관세법｣ 제174조 및 제175조,\n",
      "｢특허보세구역운영에 관한 고시｣ 제3조, 제13조, 제14조의 요건을\n",
      "갖추고, 제5조에 따른 서류를 세관장에게 제출하여 특허심사를 받아야 함\n",
      "[고시 제3조 운영인의 자격]\n",
      "- 관세법 제175조의 결격사유에 해당하지 않을 것\n",
      "- 체납된 관세 및 내국세가 없을 것\n",
      "- 보세사 자격 취득 또는 1명 이상의 보세사 채용\n",
      "- 위험물품을 장치하는 경우 관계행정기관장의 허가 등\n",
      "[고시 제13조 특허요건]\n",
      "자가화물을 장치하려는 경우. 다만, 아래 물품으로서 보세화물 감시단속에\n",
      "문제가 있는 경우 특허하지 않을 수 있음\n",
      "･\n",
      "- 소량 고가물품(귀금속 등)\n",
      "- 고세율 물품(농산물 등)\n",
      "- 위와 유사한 물품\n",
      "[고시 제14조 시설요건]\n",
      "･ ･\n",
      "- 장치 보관되는 물품의 종류 특성에 따라 필요한 면적 확보\n",
      "- 시설요건은 고시 제10조제1항제2호부터 제9호까지, 제10조 제2항, 제10\n",
      "조제4항 및 제11조를 준용\n",
      "[고시 제5조 특허신청시 제출서류]\n",
      "- 특허보세구역 특허신청서\n",
      "- 임대차계약서(임차의 경우에만 해당함)\n",
      "- 해당 보세구역의 운영과 관계있는 임원의 인적사항\n",
      "- 위험물품을 장치하는 경우 관계행정기관장의 허가 등\n",
      "- 보세구역의 도면 및 부근 위치도\n",
      "관련법령\n",
      "● ｢관세법｣ 제174조, 제175조 및 ｢특허보세구역운영에 관한 고시｣ 제3조, 제13조, 제14조 등\n",
      "406|관세행정 민원상담 사례집\n"
     ]
    }
   ],
   "source": [
    "print(ask(\"자가용 보세창고를 운영하고 싶습니다. 관련 절차가 궁금합니다.\"))"
   ]
  },
  {
   "cell_type": "code",
   "execution_count": 18,
   "id": "0f237324",
   "metadata": {},
   "outputs": [
    {
     "name": "stdout",
     "output_type": "stream",
     "text": [
      "\n",
      "👤 사용자 질문: 요즘 담배값이 많이 올라서 기회가 되면 최대한 구매하고 싶습니다. 얼마나 살 수 있나요?\n",
      "📊 유사도 점수: 0.74\n",
      "⚡ 캐시 HIT (유사도 0.74) [source=pdf_pre_cache]\n",
      "(캐시 응답)\n",
      "여행자가 휴대반입하는 담배는 궐련 200개비, 엽궐련 50개비, 전자담배\n",
      "니코틴 용액(니코틴함량 1%이하) 20ml 이하 등 한가지 품목에 대해서만\n",
      "면세 처리됩니다.\n",
      "- 단, 만 19세 미만인 사람(만 19세가 되는 해의 1월 1일을 맞이한 사람은\n",
      "제외)이 반입하는 담배는 면세대상에 포함되지 않습니다.\n",
      "담배는 여행자 휴대품 기본면세범위(US$800)에서 제외되어 별도로\n",
      "면세처리 됩니다. 면세범위 초과 시 관세, 부가가치세, 개별소비세 외에\n",
      "지방세(담배소비세, 지방교육세)가 부과됩니다.\n",
      "담배의 종류 종류별 면세범위 비 고\n",
      "• 궐련 • 200개비\n",
      "• 엽궐련 • 50개비\n",
      "• 1인당 기본면세범위(US$800)와는\n",
      "• 궐련형 200개비\n",
      "별도로 면세\n",
      "• 전자담배 • 니코틴용액* 20㎖\n",
      "• 수량기준으로 가격제한 없음\n",
      "• 기타 유형 110g\n",
      "• 한 종류만 해당\n",
      "• 그 밖의 담배 • 250g\n",
      "* 니코틴 용액 : 니코틴 함량 1% 미만일 경우만 가능(화학물질관리법) \\\n",
      "관련법령\n",
      "● 관세법 시행규칙 제48조\n",
      "PART 1 통 관|205\n",
      "\n",
      "[표 데이터]\n",
      "\n",
      "통\n",
      "관\n",
      "\n",
      "담배의 종류 | 종류별 면세범위 | 비 고\n",
      "| • 200개비 |\n",
      "| • 50개비 |\n",
      "| • 궐련형 200개비\n",
      "• 니코틴용액* 20㎖\n",
      "• 기타 유형 110g |\n",
      "| • 250g |\n"
     ]
    }
   ],
   "source": [
    "print(ask(\"요즘 담배값이 많이 올라서 기회가 되면 최대한 구매하고 싶습니다. 얼마나 살 수 있나요?\"))"
   ]
  },
  {
   "cell_type": "code",
   "execution_count": 19,
   "id": "45e5365d",
   "metadata": {},
   "outputs": [
    {
     "name": "stdout",
     "output_type": "stream",
     "text": [
      "\n",
      "👤 사용자 질문: 해외 구매 식품 국내 휴대 반입시 유의사항\n",
      "📊 유사도 점수: 1.00\n",
      "⚡ 캐시 HIT (유사도 1.00) [source=pdf_pre_cache]\n",
      "(캐시 응답)\n",
      "여행자가 자가사용을 위해 해외(국내외 면세점 포함)에서 취득(구입·선물\n",
      "포함)하여 국내에 반입하는 물품은 여행자가 통상적으로 휴대하는 것이\n",
      "타당하다고 세관장이 인정하는 범위 이내로서, 해외에서 취득한 물품\n",
      "가격의 총합이 미화 800달러 이하일 경우 면세통관이 가능하며, 면세범\n",
      "위를 초과하는 경우 세관신고대상으로 관세 등 세금을 납부하면 통관이\n",
      "가능합니다.\n",
      "- 단, 과일, 채소, 소시지 등과 같이 검역대상 재료가 포함된 식품은 면세\n",
      "범위와 상관없이 검역에 합격하여야 통관이 가능합니다.\n",
      "- 상업용으로 인정될 만한 중·수량의 식품을 반입하는 경우 여행자휴대품으로\n",
      "인정되지 않으므로 유치 후 수입통관 절차를 거쳐야 합니다.\n",
      "\\\n",
      "관련법령\n",
      "● 「여행자및승무원휴대품통관에관한고시」 제16조\n",
      "208|관세행정 민원상담 사례집\n"
     ]
    }
   ],
   "source": [
    "print(ask(\"해외 구매 식품 국내 휴대 반입시 유의사항\"))"
   ]
  },
  {
   "cell_type": "code",
   "execution_count": 20,
   "id": "cb5b30ab",
   "metadata": {},
   "outputs": [
    {
     "name": "stdout",
     "output_type": "stream",
     "text": [
      "\n",
      "👤 사용자 질문: 출국할 때 가지고 갔던 국내에서 구입한 물품을 입국할 때 면세\n",
      "📊 유사도 점수: 0.72\n",
      "⚡ 캐시 HIT (유사도 0.72) [source=pdf_pre_cache]\n",
      "(캐시 응답)\n",
      "하는 물품 포함)의 가격이 미화 800달러를 초과하는 경우 신고금액을\n",
      "미화로 환산한 금액에서 미화 800달러를 공제한 후 잔여금액을 원화로\n",
      "환산하고 해당물품의 세율을 적용하여 과세통관 할 수 있습니다.\n",
      "- 납부할 세액 = (전체해외취득물품의 가격 - US$800) ×간이세율(품목별\n",
      "세율이 상이하나 통상적으로 15%)\n",
      "참고로 간이세율이 15% 이상인 물품은 녹용(21%), 모피제품(19%), 의류\n",
      "(18%), 신발류(18%), 귀금속류, 고급시계 등 개별소비세 과세대상물품\n",
      "(기준가격을 초과하는 금액의 45%) 등이 있습니다.\n",
      "관련법령\n",
      "● 관세법 제81조, 관세법 시행령 제96조\n",
      "196|관세행정 민원상담 사례집\n"
     ]
    }
   ],
   "source": [
    "print(ask(\"출국할 때 가지고 갔던 국내에서 구입한 물품을 입국할 때 면세\"))"
   ]
  },
  {
   "cell_type": "code",
   "execution_count": 21,
   "id": "bf8745c6",
   "metadata": {},
   "outputs": [
    {
     "name": "stdout",
     "output_type": "stream",
     "text": [
      "\n",
      "👤 사용자 질문: 향수의 면세범위는 어떻게 되나요?\n",
      "📊 유사도 점수: 1.00\n",
      "⚡ 캐시 HIT (유사도 1.00) [source=pdf_pre_cache]\n",
      "(캐시 응답)\n",
      "향수의 여행자 휴대품 면세범위는 100㎖ 또는 이에 준하는 부피 또는\n",
      "중량 이내의 것(예: 100g, 3.4oz 등, 수량 제한 없음)이며, 이 경우 관세\n",
      "및 부가가치세 등이 면제됩니다.\n",
      "- 향수는 여행자 휴대품 기본면세범위(US$800)에서 제외되어 별도로 면세\n",
      "처리됩니다.\n",
      "\\\n",
      "관련법령\n",
      "● 관세법 시행규칙 제48조\n",
      "PART 1 통 관|215\n",
      "\n",
      "[표 데이터]\n",
      "\n",
      "통\n",
      "관\n"
     ]
    }
   ],
   "source": [
    "print(ask(\"향수의 면세범위는 어떻게 되나요?\"))"
   ]
  },
  {
   "cell_type": "code",
   "execution_count": 22,
   "id": "132d338c",
   "metadata": {},
   "outputs": [
    {
     "name": "stdout",
     "output_type": "stream",
     "text": [
      "\n",
      "👤 사용자 질문: 재수출 조건부 일시반입 물품은 무엇인가요?\n",
      "📊 유사도 점수: 1.00\n",
      "⚡ 캐시 HIT (유사도 1.00) [source=pdf_pre_cache]\n",
      "(캐시 응답)\n",
      "재수출 조건부 일시반입 제도는 우리나라를 일시 입국하는 여행자가\n",
      "사용할 물품에 대해 재수출하는 조건으로 세금을 면제해주는 ‘조건부\n",
      "면세제도’입니다.\n",
      "대상자 및 허용범위는 외국거주자 중 우리나라를 일시방문하는 자이거나\n",
      "우리나라 국적 소유자 중 교포, 유학생, 해외근무자 등 1년이상 외국에\n",
      "거주하는 자의 신변용품, 신변장식용품, 직업용품으로 한정(회사용물품은\n",
      "불가)하며, 반드시 재수출할 물품에 한해 엄격히 적용하고 있습니다.\n",
      "재수출면세기간은 1년 이내 최초 출국일까지이며, 1년의 범위 내에서\n",
      "연장이 가능하며, 반출기한 연장은 횟수에 제한은 없으나 전체 연장기간은\n",
      "1년을 초과할 수 없어 입국시부터 최초 출국시까지 최장 2년간 면세가\n",
      "가능합니다.\n",
      "여행자는 재수출 조건부 일시반입 허용일 이후 최초 출국하는 날에 일시반입한\n",
      "물품과 재수출조건 일시반입물품 확인서를 가지고 출국장에서 세관 직원에게\n",
      "확인을 받고 반출하여야 합니다.\n",
      "타인이 아닌 면세받은 여행자가 출국 시 반출확인을 직접 받아야 하며,\n",
      "기한 내 재반출을 이행하지 않은 경우 최초 조건부 면세받은 세액 전액과\n",
      "미반출에 대한 가산세 20%를 부과하여 추징합니다.\n",
      "관련법령\n",
      "● 관세법 제97조제1항제1호\n",
      "● 관세법 시행령 제115조제1항\n",
      "● 여행자 및 승무원 휴대품통관에 관한 고시 제60조~제63조\n",
      "216|관세행정 민원상담 사례집\n"
     ]
    }
   ],
   "source": [
    "print(ask(\"재수출 조건부 일시반입 물품은 무엇인가요?\"))"
   ]
  },
  {
   "cell_type": "code",
   "execution_count": 23,
   "id": "bdd6f696",
   "metadata": {},
   "outputs": [
    {
     "name": "stdout",
     "output_type": "stream",
     "text": [
      "\n",
      "👤 사용자 질문: 면세범위를 초과하는 담배를 통관할 때 부과되는 세금은 무엇인가요?\n",
      "📊 유사도 점수: 1.00\n",
      "⚡ 캐시 HIT (유사도 1.00) [source=pdf_pre_cache]\n",
      "(캐시 응답)\n",
      "\\\n",
      "여행자 면세범위를 초과하는 담배를 과세통관하는 경우 관세, 부가가치세,\n",
      "개별소비세 외에 지방세(담배소비세, 지방교육세)가 부과되며, 지방세는\n",
      "국세와 별도로 고지서를 발급하고 있습니다.\n",
      "담배 종류별 여행자 휴대품 면세범위(1인당)\n",
      "‣ 궐련 200개비, 엽궐련 50개비\n",
      "‣ 전자담배 : 궐련형 200개비, 니코틴용액(1%미만) 20ml, 기타유형 110g\n",
      "‣ 그밖의 담배 250g\n",
      "※ 1종류만 면세 가능, 기본면세범위와 별도 면세, 미성년자는 면세 제외\n",
      "담배란 담배사업법 제2조에 따라 연초의 잎을 원료의 전부 또는 일부로\n",
      "하여 피우거나 빨거나 증거로 흡입하거나 씹거나 냄새 맡기에 적합한\n",
      "상태로 제조한 것을 의미하며, 담배 종류에 따른 세종 및 세율은 아래\n",
      "표와 같습니다.\n",
      "종가세(%) 종량세(원)\n",
      "국세 지방세\n",
      "구분 종류 부가 과세\n",
      "관세 세 단위 개별 담배 지방\n",
      "소비세 소비세 교육세\n",
      "궐련(필터담배) 20개비당 594 1,007 443\n",
      "피 파이프담배 40 1g당 21 36 16\n",
      "엽궐련(시가) 1g당 61 103 45\n",
      "우\n",
      "각련 1g당 21 36 16\n",
      "는\n",
      "액상 8 용액 1ml당 370 628 276\n",
      "담 전자 10\n",
      "궐련형 40 20개비당 529 897 395\n",
      "배 담배 기타형 40 1g 51 88 39\n",
      "물담배 1g당 422 715 315\n",
      "씹거나 머금는 담배 40 1g당 215 364 160\n",
      "냄새맡는 담배(코담배) 1g당 15 26 11\n",
      "‣ 지방교육세 : 담배소비세액의 10,000분의 4,339(43.99%) 「지방세법 제151조」\n",
      "‣ 부가가치세의 면세 : 담배사업법 제2조의 규정에 의한 담배로서 판매가격이 200원이\n",
      "하의 것 또는 담배사업법 제19조 규정에 의한 특수용 담배인 경우 면세, 그 외는\n"
     ]
    }
   ],
   "source": [
    "print(ask(\"면세범위를 초과하는 담배를 통관할 때 부과되는 세금은 무엇인가요?\"))"
   ]
  },
  {
   "cell_type": "code",
   "execution_count": 234,
   "id": "e8ae3a87",
   "metadata": {},
   "outputs": [
    {
     "name": "stdout",
     "output_type": "stream",
     "text": [
      "\n",
      "👤 사용자 질문: 외국에서 흙을 휴대품으로 가지고 오고 싶은데 가능한가요?\n",
      "📊 유사도 점수: 1.00\n",
      "⚡ 캐시 HIT (유사도 1.00) [source=pdf_pre_cache]\n",
      "(캐시 응답)\n",
      "흙은 「식물방역법」제10조에 따라 수입금지품목이므로 국내 반입이 불가합니다.\n",
      "- 흙이란 암석 등이 풍화되어 분해된 것으로 유기질이 혼입된 지구표면의\n",
      "혼합물로 동식물에 큰 피해를 줄 수 있는 각종 병해충이 서식할 가능성이\n",
      "높습니다.\n",
      "그러나 시험연구용이나 정부가 인정하는 국제박람회용으로 제공하기 위한\n",
      "경우 등 특정 상황에서 일정한 요건을 갖추어 농림축산식품부장관의\n",
      "허가를 받아야만 수입이 가능합니다.\n",
      "- 흙은 HS부호 2530.90-9099호에 분류되며, 관세는 3%, 부가가치세 과세\n",
      "대상이며 세관장 확인대상(식물방역법)입니다.\n",
      "흙에 해당하지 않는 물품\n",
      "‣ 도토, 인광, 규조토, 보크사이트 등 공업용·화장품 또는 의료용으로 사용되는 것\n",
      "‣ 유기물이 혼입되어 있지 않는 모래, 자갈\n",
      "‣ 바다에서 채취된 모래, 자갈\n",
      "‣ 피트모스, 코코피트(코코넛 허스크), 이끼 등 → 흙으로는 보지 아니하나\n",
      "식물방역법 대상 물품임\n",
      "※ 피트모스(Peat Moss) : 늪지 식물이 습지의 바닥에 퇴적되어 부식한 것 \\\n",
      "관련법령\n",
      "● 식물방역법 제10조제1항제3호, 제2항제1호\n",
      "PART 1 통 관|219\n",
      "\n",
      "[표 데이터]\n",
      "\n",
      "통\n",
      "관\n"
     ]
    }
   ],
   "source": [
    "print(ask(\"외국에서 흙을 휴대품으로 가지고 오고 싶은데 가능한가요?\"))"
   ]
  },
  {
   "cell_type": "code",
   "execution_count": 52,
   "id": "907c6d17",
   "metadata": {},
   "outputs": [
    {
     "name": "stdout",
     "output_type": "stream",
     "text": [
      "\n",
      "👤 사용자 질문: 자진신고를 하지 않으면 어떻게 되나요?\n",
      "📊 유사도 점수: 1.00\n",
      "⚡ 캐시 HIT (유사도 1.00) [source=pdf_pre_cache]\n",
      "(캐시 응답)\n",
      "자진신고 불이행시에는 사후납부 및 면세점 반품 배제, 40%의 가산세 부과 등 불이익이 따\n",
      "르며 밀수입의 고의가 있다고 판단되는 경우 처벌받을 수 있습니다. ※ 1人기본면세범위\n",
      "($800)는 자진신고 여부와 관계없이 적용됨\n",
      "◆ 세금 사후납부 불허\n",
      "수입물품은 세금납부 또는 납세담보 제공 후 보세구역에서 반출 가능한 것이 원칙이나, 여행자휴대\n",
      "품의 경우 휴대품을 신고한 국내거주 내국인 여행자에 한하여 예외적으로 사후납부가 허용(단, 체납자,\n",
      "우범여행자, 만19세 미만자는 제외)되므로, 신고불이행시에는 사후납부가 불허됨\n",
      "⇨ 여행자및승무원휴대품통관에관한고시 제58조\n",
      "◆ 면세점 반품 불가\n",
      "해외에서 취득한 물품(국내면세점 구매후 재반입물품 포함) 중 면세범위 초과분은 세관에 자진신고하여야\n",
      "하며, 면세점 구매물품을 구매자가 직접 휴대입국하여 교환, 환불 요청시에는 세관에 휴대품 신고 및\n",
      "유치해야 하므로, 신고불이행시 면세점 반품은 불가함\n",
      "⇨ 여행자및승무원휴대품통관에관한고시 제6조 / 보세판매장운영에관한고시 제19조\n",
      "◆ 미신고 가산세 부과\n",
      "여행자 및 승무원이 신고대상물품을 신고하지 아니한 경우 해당 물품에 대하여 납부할 세액(관세+내국세)의\n",
      "100분의 40(최대 60*)에 해당하는 금액을 가산세로 징수함\n",
      "* 입국일 기준으로 소급하여 최근 2년 이내에 2회 이상 미신고 가산세를 징수한 경우\n",
      "⇨ 관세법 제241조 제5항 제1호, 여행자및승무원휴대품통관에관한고시 제6조\n",
      "◆ 밀수입죄로 처벌\n",
      "단순 신고불이행의 범주에서 벗어나 대리반입, 이중바닥이나 신변에 은닉 등 밀수입의 고의가 현저하\n",
      "다고 인정되는 경우에는 밀수입죄의 미수범으로 처벌 가능(통고처분, 조사의뢰)\n",
      "⇨ 관세법 제269조 내지 제270조, 제274조, 제311조 등\n",
      "◆ FTA 협정세율 적용 배제\n"
     ]
    }
   ],
   "source": [
    "print(ask(\"자진신고를 하지 않으면 어떻게 되나요?\"))"
   ]
  },
  {
   "cell_type": "code",
   "execution_count": 122,
   "id": "ecd293f5",
   "metadata": {},
   "outputs": [
    {
     "name": "stdout",
     "output_type": "stream",
     "text": [
      "\n",
      "👤 사용자 질문: 미국의 쇼핑 사이트에서 한화 약 300만원 정도 되는 고급 핸드백을 구입하려고 하는데 납부하여야 하는 세액이 얼마나 되는지요?\n",
      "📊 유사도 점수: 0.62\n",
      "❌ 캐시 MISS (유사도 0.62 < 0.7)\n",
      "💡 캐시 MISS → RAG 검색 중...\n",
      "🤖 Llama3.2 응답 생성 중...\n",
      "💾 Dynamic Cache 저장: 미국의 쇼핑 사이트에서 한화 약 300만원 정도 되는 ...\n",
      "(새로 생성된 응답)\n",
      "고급 핸드백을 미국의 쇼핑 사이트에서 구입할 경우, 물품 가격은 약 300만 원입니다. \n",
      "\n",
      "물품 가격 중 기준 가격을 200만 원으로 하자면, 200만 원 이상인 부분의 가격에 100분의 20을 곱한 금액이 개별 소비세로 부과됩니다.\n",
      "\n",
      "관세 price = 300만 원\n",
      "가상価格 = 400만 원 (200만 원 + 100% x 200만 원)\n",
      "觀세 : (400만 원 - 관세 가격) x 8% = 32만 원\n",
      "\n",
      "개별 소비 세는 주류에 의하여 부과되는 세금으로, 57,000원 이상의 물품을 판매할 경우 수량(㎘) x 57,000원 x 가산금액이 부과됩니다.\n",
      "\n",
      "기본価格 : 200만 원\n",
      "상가 가격 = 400만 원\n",
      "가산금액은 관세 price (32만 원) + 주세 price (10만 원) + 교육세 가격 (8만 원)로計算됩니다. \n",
      "\n",
      "주세price = (57,000 - 10만 원) x 가산금액 \n",
      "教育세 가격= (8만 원) x 가산금액\n",
      "부가가치 세는 관세 가격 + 주세 가격 + 개별 소비 세 + 교육 세 + 부가 가치 세로 부과됩니다.\n",
      "\n",
      "부가가치 세 = 400만 원 x 10% = 40만 원 \n",
      "\n",
      "제출된 세액은 (32만 원 + 12만 원 + 4만 원 + 8만 원) x 100 = 56만 원입니다.\n"
     ]
    }
   ],
   "source": [
    "print(ask(\"미국의 쇼핑 사이트에서 한화 약 300만원 정도 되는 고급 핸드백을 구입하려고 하는데 납부하여야 하는 세액이 얼마나 되는지요?\"))"
   ]
  },
  {
   "cell_type": "code",
   "execution_count": 37,
   "id": "b5c17dee",
   "metadata": {},
   "outputs": [
    {
     "name": "stdout",
     "output_type": "stream",
     "text": [
      "\n",
      "👤 사용자 질문: 입국장에서 간이통관 했는데 수입세금계산서를 받을 수 있나요?\n",
      "📊 유사도 점수: 1.00\n",
      "⚡ 캐시 HIT (유사도 1.00) [source=pdf_pre_cache]\n",
      "(캐시 응답)\n",
      "수입세금계산서는 회사물품 통관시 회사명, 사업자등록번호 등을\n",
      "제시하고 기본세율로 통관했을 경우에 받을 수 있습니다.\n",
      "1만불 이하의 수리용 물품, 견본품, 원부자재 등 회사물품의 현장 통관 시\n",
      "세금계산서 발행을 원하는 경우 반드시 기본세율을 적용하여 통관하여야\n",
      "합니다.\n",
      "※ 간이세율 적용 시에는 관세와 부가가치세가 구분되지 않으므로 발급 불가\n",
      "\\\n",
      "관련법령\n",
      "● 수입세금계산서 [tax invoice on import] 부가가치세법 제35조 ①항\n",
      "PART 1 통 관|225\n",
      "\n",
      "[표 데이터]\n",
      "\n",
      "통\n",
      "관\n"
     ]
    }
   ],
   "source": [
    "print(ask(\"입국장에서 간이통관 했는데 수입세금계산서를 받을 수 있나요?\"))"
   ]
  },
  {
   "cell_type": "code",
   "execution_count": 38,
   "id": "ff028010",
   "metadata": {},
   "outputs": [
    {
     "name": "stdout",
     "output_type": "stream",
     "text": [
      "\n",
      "👤 사용자 질문: COB화물은 어떻게 처리되나요?\n",
      "📊 유사도 점수: 1.00\n",
      "⚡ 캐시 HIT (유사도 1.00) [source=pdf_pre_cache]\n",
      "(캐시 응답)\n",
      "COB 화물은 쿠리어 개인 휴대품 검사 후 여행자통관과 內의 COB장치\n",
      "장으로 반입하여 검사 후 면세통관하거나 유치하여 정식 수입통관합니다.\n",
      "※ COB란 Courier On Board의 약자로 쿠리어(Courier:운반원)가 직접\n",
      "항공기에 탑승(On Board)하여 화물을 휴대/기탁 수하물 형태로 운송하\n",
      "는 방법을 말한다. COB 화물은 원칙적으로 상업서류 및 기타 견품 등\n",
      "에 한하며, COB 업체 및 쿠리어는 세관장에게 등록하여야 한다.\n",
      "\\\n",
      "관련법령\n",
      "● 관세법 제172조(물품에 대한 보관책임)\n",
      "226|관세행정 민원상담 사례집\n"
     ]
    }
   ],
   "source": [
    "print(ask(\"COB화물은 어떻게 처리되나요?\"))"
   ]
  },
  {
   "cell_type": "code",
   "execution_count": null,
   "id": "44f4069d",
   "metadata": {},
   "outputs": [],
   "source": []
  }
 ],
 "metadata": {
  "kernelspec": {
   "display_name": ".venv",
   "language": "python",
   "name": "python3"
  },
  "language_info": {
   "codemirror_mode": {
    "name": "ipython",
    "version": 3
   },
   "file_extension": ".py",
   "mimetype": "text/x-python",
   "name": "python",
   "nbconvert_exporter": "python",
   "pygments_lexer": "ipython3",
   "version": "3.12.10"
  }
 },
 "nbformat": 4,
 "nbformat_minor": 5
}
