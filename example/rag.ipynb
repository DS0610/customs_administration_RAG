{
 "cells": [
  {
   "cell_type": "code",
   "execution_count": 18,
   "id": "c0e999f7",
   "metadata": {},
   "outputs": [
    {
     "name": "stdout",
     "output_type": "stream",
     "text": [
      "😊\n",
      "\n",
      "LLM은 Large Language Model의 약자입니다. LLM은 인공 지능(AI) 분야에서 사용되는 표현으로, 매우 큰 언어 모델을 의미합니다.\n",
      "\n",
      "지금은 AI가 발전하면서, 사람們는 더 많은 데이터를 분석하고, 더 많은 정보를 생성할 수 있습니다. 이러한 프로세스를 LLM이라고 부릅니다. LLM은 자연어 처리(NLP), 컴퓨팅, 데이터 과학 등 다양한 분야에서 사용됩니다.\n",
      "\n",
      "이러한 LLM은 우리가 일상적으로 사용하는 언어(문장) 분석하고, 새로운 문장을 생성하는 등 매우 다양한 기능을 제공합니다. 이 기술은 인류의 삶을 크게 변화시킬 가능성이 있습니다! 🚀\n"
     ]
    }
   ],
   "source": [
    "from langchain_core.prompts import ChatPromptTemplate\n",
    "from langchain_core.output_parsers import StrOutputParser\n",
    "from langchain_ollama import ChatOllama\n",
    "\n",
    "# ✅ Ollama 모델 불러오기\n",
    "llm = ChatOllama(\n",
    "    base_url=\"http://localhost:11434\",  # Ollama 기본 서버\n",
    "    model=\"llama3:8b\"                   # 설치한 모델 이름\n",
    ")\n",
    "\n",
    "# ✅ 프롬프트 템플릿\n",
    "prompt = ChatPromptTemplate.from_messages([\n",
    "    (\"system\", \"너는 친절한 한국어 비서야.\"),\n",
    "    (\"user\", \"{input}\")\n",
    "])\n",
    "\n",
    "# ✅ 체인 구성\n",
    "chain = prompt | llm | StrOutputParser()\n",
    "\n",
    "# ✅ 실행\n",
    "print(chain.invoke({\"input\": \"LLM이 뭐야?\"}))"
   ]
  },
  {
   "cell_type": "code",
   "execution_count": null,
   "id": "b4f2cf01",
   "metadata": {},
   "outputs": [],
   "source": []
  }
 ],
 "metadata": {
  "kernelspec": {
   "display_name": ".venv",
   "language": "python",
   "name": "python3"
  },
  "language_info": {
   "codemirror_mode": {
    "name": "ipython",
    "version": 3
   },
   "file_extension": ".py",
   "mimetype": "text/x-python",
   "name": "python",
   "nbconvert_exporter": "python",
   "pygments_lexer": "ipython3",
   "version": "3.12.10"
  }
 },
 "nbformat": 4,
 "nbformat_minor": 5
}
