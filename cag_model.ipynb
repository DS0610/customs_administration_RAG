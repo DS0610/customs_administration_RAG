{
 "cells": [
  {
   "cell_type": "code",
   "execution_count": 65,
   "id": "2c98f35e",
   "metadata": {},
   "outputs": [],
   "source": [
    "import pdfplumber, re, redis, numpy as np, json, requests\n",
    "from sentence_transformers import SentenceTransformer\n",
    "from redis.commands.search.field import TextField, VectorField\n",
    "from redis.commands.search.index_definition import IndexDefinition, IndexType\n",
    "from redis.commands.search.query import Query\n",
    "from collections import deque"
   ]
  },
  {
   "cell_type": "code",
   "execution_count": 66,
   "id": "2631c691",
   "metadata": {},
   "outputs": [],
   "source": [
    "# ============================================================\n",
    "# 1️⃣ Redis & 모델 초기화\n",
    "# ============================================================\n",
    "r = redis.Redis(host=\"localhost\", port=6379, decode_responses=False)\n",
    "model = SentenceTransformer(\"jhgan/ko-sroberta-multitask\")\n",
    "\n",
    "CACHE_INDEX = \"cache_index\"   # 캐시 인덱스\n",
    "RAG_INDEX = \"qa2_index\"        # RAG 인덱스\n",
    "user_cache = deque(maxlen=5)  # Dynamic Cache (최근 5개)"
   ]
  },
  {
   "cell_type": "code",
   "execution_count": 67,
   "id": "c3e56a91",
   "metadata": {},
   "outputs": [],
   "source": [
    "# ------------------------------------------------------------\n",
    "# 2️⃣ 임베딩 함수 (정규화 비활성화: Redis COSINE과 호환)\n",
    "# ------------------------------------------------------------\n",
    "def embed(text: str):\n",
    "    # 🚀 중요: normalize_embeddings=False → Redis COSINE 계산 정확도 향상\n",
    "    emb = model.encode(text, normalize_embeddings=False)\n",
    "    return np.array(emb, dtype=np.float32).tobytes()"
   ]
  },
  {
   "cell_type": "code",
   "execution_count": 68,
   "id": "22025910",
   "metadata": {},
   "outputs": [
    {
     "name": "stdout",
     "output_type": "stream",
     "text": [
      "🗑️ 기존 cache_index 삭제 완료\n",
      "✅ cache_index 인덱스 생성 완료\n"
     ]
    }
   ],
   "source": [
    "# ------------------------------------------------------------\n",
    "# 3️⃣ 캐시 인덱스 초기화 (기존 인덱스 삭제 후 재생성)\n",
    "# ------------------------------------------------------------\n",
    "def init_cache_index(force_recreate=True):\n",
    "    if force_recreate:\n",
    "        try:\n",
    "            r.ft(CACHE_INDEX).dropindex(delete_documents=True)\n",
    "            print(\"🗑️ 기존 cache_index 삭제 완료\")\n",
    "        except Exception:\n",
    "            pass\n",
    "\n",
    "    try:\n",
    "        r.ft(CACHE_INDEX).info()\n",
    "        print(\"ℹ️ cache_index 이미 존재 (재사용)\")\n",
    "    except:\n",
    "        dim = len(model.encode(\"차원 확인\", normalize_embeddings=False))\n",
    "        r.ft(CACHE_INDEX).create_index(\n",
    "            fields=[\n",
    "                VectorField(\"embedding\", \"FLAT\", {\n",
    "                    \"TYPE\": \"FLOAT32\",\n",
    "                    \"DIM\": dim,\n",
    "                    \"DISTANCE_METRIC\": \"COSINE\"   # ✅ COSINE + 비정규화 벡터 조합\n",
    "                }),\n",
    "                TextField(\"text\"),\n",
    "                TextField(\"source\")\n",
    "            ],\n",
    "            definition=IndexDefinition(prefix=[\"cache:\"], index_type=IndexType.HASH)\n",
    "        )\n",
    "        print(\"✅ cache_index 인덱스 생성 완료\")\n",
    "\n",
    "init_cache_index()"
   ]
  },
  {
   "cell_type": "code",
   "execution_count": null,
   "id": "fb52eca3",
   "metadata": {},
   "outputs": [],
   "source": [
    "# ------------------------------------------------------------\n",
    "# 4️⃣ PDF Q–A 파싱 (본문 + 표 포함)\n",
    "# ------------------------------------------------------------\n",
    "PDF_PATH = \"/Users/yoodongseok/Desktop/rag_project/data/2024 관세행정 민원상담 사례집.pdf\"\n",
    "\n",
    "def extract_qa_pairs(pdf_path):\n",
    "    qa_pairs = []\n",
    "    with pdfplumber.open(pdf_path) as pdf:\n",
    "        for page_idx, page in enumerate(pdf.pages):\n",
    "            text = page.extract_text() or \"\"\n",
    "            lines = text.split(\"\\n\") if text else []\n",
    "\n",
    "            # 표 추출\n",
    "            tables = page.extract_tables()\n",
    "            table_texts = []\n",
    "            for table in tables:\n",
    "                rows = [\" | \".join([cell if cell else \"\" for cell in row]) for row in table]\n",
    "                table_texts.append(\"\\n\".join(rows))\n",
    "            table_text_block = \"\\n\\n[표 데이터]\\n\" + \"\\n\\n\".join(table_texts) if table_texts else \"\"\n",
    "\n",
    "            merged_text = text + table_text_block\n",
    "\n",
    "            current_q, current_a = None, []\n",
    "            for line in merged_text.split(\"\\n\"):\n",
    "                line = line.strip()\n",
    "                if re.match(r\"^(\\?|관세법|.*\\?)\", line):\n",
    "                    if current_q and current_a:\n",
    "                        qa_pairs.append({\n",
    "                            \"question\": current_q,\n",
    "                            \"answer\": \"\\n\".join(current_a).strip()\n",
    "                        })\n",
    "                    current_q = line\n",
    "                    current_a = []\n",
    "                elif current_q:\n",
    "                    current_a.append(line)\n",
    "\n",
    "            if current_q and current_a:\n",
    "                qa_pairs.append({\n",
    "                    \"question\": current_q,\n",
    "                    \"answer\": \"\\n\".join(current_a).strip()\n",
    "                })\n",
    "\n",
    "    return qa_pairs"
   ]
  },
  {
   "cell_type": "code",
   "execution_count": 70,
   "id": "4829a4b4",
   "metadata": {},
   "outputs": [
    {
     "name": "stdout",
     "output_type": "stream",
     "text": [
      "📘 PDF에서 1000개의 QA 추출 완료\n",
      "💾 Redis에 1000개 Pre-Cache 저장 완료\n"
     ]
    }
   ],
   "source": [
    "# ------------------------------------------------------------\n",
    "# 5️⃣ Pre-Cache (PDF → Redis 저장)\n",
    "# ------------------------------------------------------------\n",
    "def pre_cache_pdf(pdf_path):\n",
    "    qa_list = extract_qa_pairs(pdf_path)\n",
    "    print(f\"📘 PDF에서 {len(qa_list)}개의 QA 추출 완료\")\n",
    "\n",
    "    for i, qa in enumerate(qa_list):\n",
    "        key = f\"cache:pdf:{i}\"\n",
    "        r.hset(key, mapping={\n",
    "            \"embedding\": embed(qa[\"question\"]),\n",
    "            \"text\": qa[\"answer\"],\n",
    "            \"source\": \"pdf_pre_cache\"\n",
    "        })\n",
    "    print(f\"💾 Redis에 {len(qa_list)}개 Pre-Cache 저장 완료\")\n",
    "\n",
    "pre_cache_pdf(PDF_PATH)\n"
   ]
  },
  {
   "cell_type": "code",
   "execution_count": 71,
   "id": "c568b058",
   "metadata": {},
   "outputs": [],
   "source": [
    "# ------------------------------------------------------------\n",
    "# 6️⃣ 캐시 검색 (CAG)\n",
    "# ------------------------------------------------------------\n",
    "def check_cache(user_query, k=3, threshold=0.60):\n",
    "    q_emb = embed(user_query)\n",
    "    q = Query(f\"*=>[KNN {k} @embedding $vec AS score]\") \\\n",
    "        .return_fields(\"text\", \"source\", \"score\") \\\n",
    "        .sort_by(\"score\") \\\n",
    "        .dialect(2)\n",
    "\n",
    "    try:\n",
    "        res = r.ft(CACHE_INDEX).search(q, query_params={\"vec\": q_emb})\n",
    "    except Exception as e:\n",
    "        print(\"❌ 캐시 검색 오류:\", e)\n",
    "        return None\n",
    "\n",
    "    if not res.docs:\n",
    "        print(\"❌ 캐시에서 유사 문서 없음\")\n",
    "        return None\n",
    "\n",
    "    # 유사도 계산\n",
    "    sim = 1 - float(res.docs[0].score)\n",
    "    print(f\"📊 유사도 점수: {sim:.2f}\")\n",
    "    if sim >= threshold:\n",
    "        print(f\"⚡ 캐시 HIT (유사도 {sim:.2f}) [source={res.docs[0].source}]\")\n",
    "        return res.docs[0].text\n",
    "    else:\n",
    "        print(f\"❌ 캐시 MISS (유사도 {sim:.2f} < {threshold})\")\n",
    "    return None"
   ]
  },
  {
   "cell_type": "code",
   "execution_count": 72,
   "id": "864c3ad9",
   "metadata": {},
   "outputs": [],
   "source": [
    "# ------------------------------------------------------------\n",
    "# 7️⃣ Dynamic Cache 저장 (최근 5개 유지)\n",
    "# ------------------------------------------------------------\n",
    "def save_dynamic_cache(query, answer):\n",
    "    key = f\"cache:dyn:{abs(hash(query)) % (10**8)}\"\n",
    "    r.hset(key, mapping={\n",
    "        \"embedding\": embed(query),\n",
    "        \"text\": answer,\n",
    "        \"source\": \"dynamic_cache\"\n",
    "    })\n",
    "    user_cache.append(key)\n",
    "    if len(user_cache) > user_cache.maxlen:\n",
    "        oldest = user_cache.popleft()\n",
    "        r.delete(oldest)\n",
    "        print(f\"🗑️ 오래된 캐시 삭제: {oldest}\")\n",
    "    print(f\"💾 Dynamic Cache 저장: {query[:30]}...\")"
   ]
  },
  {
   "cell_type": "code",
   "execution_count": 73,
   "id": "9a77ac70",
   "metadata": {},
   "outputs": [],
   "source": [
    "# ------------------------------------------------------------\n",
    "# 8️⃣ RAG 검색 (qa_index에서 검색)\n",
    "# ------------------------------------------------------------\n",
    "def search_rag_context(query, k=3):\n",
    "    q_emb = embed(query)\n",
    "    q = Query(f\"*=>[KNN {k} @embedding $vec AS score]\") \\\n",
    "        .return_fields(\"answer\", \"score\") \\\n",
    "        .sort_by(\"score\") \\\n",
    "        .dialect(2)\n",
    "    try:\n",
    "        res = r.ft(RAG_INDEX).search(q, query_params={\"vec\": q_emb})\n",
    "        return [doc.answer for doc in res.docs]\n",
    "    except Exception as e:\n",
    "        print(\"❌ RAG 검색 오류:\", e)\n",
    "        return []"
   ]
  },
  {
   "cell_type": "code",
   "execution_count": 74,
   "id": "0097480e",
   "metadata": {},
   "outputs": [],
   "source": [
    "# ------------------------------------------------------------\n",
    "# 9️⃣ Llama3.2 (Ollama) 호출\n",
    "# ------------------------------------------------------------\n",
    "def call_llm_with_context(query, contexts):\n",
    "    context_text = \"\\n\\n\".join(contexts)\n",
    "    prompt = f\"\"\"\n",
    "너는 관세행정 민원상담 전문 챗봇이야.\n",
    "아래 문서를 참고해 질문에 정확히 답변해줘.\n",
    "\n",
    "[문서 내용]\n",
    "{context_text}\n",
    "\n",
    "[질문]\n",
    "{query}\n",
    "\"\"\"\n",
    "    url = \"http://localhost:11434/api/generate\"\n",
    "    payload = {\"model\": \"llama3.2:3b\", \"prompt\": prompt}\n",
    "\n",
    "    response_text = \"\"\n",
    "    with requests.post(url, json=payload, stream=True) as r_:\n",
    "        for line in r_.iter_lines():\n",
    "            if line:\n",
    "                data = json.loads(line.decode(\"utf-8\"))\n",
    "                if \"response\" in data:\n",
    "                    response_text += data[\"response\"]\n",
    "                if data.get(\"done\", False):\n",
    "                    break\n",
    "    return response_text.strip()"
   ]
  },
  {
   "cell_type": "code",
   "execution_count": 75,
   "id": "efa69816",
   "metadata": {},
   "outputs": [],
   "source": [
    "# ------------------------------------------------------------\n",
    "# 🔟 전체 파이프라인 (CAG → RAG → LLM → Dynamic Cache)\n",
    "# ------------------------------------------------------------\n",
    "def ask(query):\n",
    "    print(f\"\\n👤 사용자 질문: {query}\")\n",
    "\n",
    "    cached = check_cache(query)\n",
    "    if cached:\n",
    "        return f\"(캐시 응답)\\n{cached}\"\n",
    "\n",
    "    print(\"💡 캐시 MISS → RAG 검색 중...\")\n",
    "    contexts = search_rag_context(query)\n",
    "    if not contexts:\n",
    "        return \"❌ 관련 문서를 찾지 못했습니다.\"\n",
    "\n",
    "    print(\"🤖 Llama3.2 응답 생성 중...\")\n",
    "    answer = call_llm_with_context(query, contexts)\n",
    "    save_dynamic_cache(query, answer)\n",
    "\n",
    "    return f\"(새로 생성된 응답)\\n{answer}\""
   ]
  },
  {
   "cell_type": "code",
   "execution_count": 76,
   "id": "461302ec",
   "metadata": {},
   "outputs": [
    {
     "name": "stdout",
     "output_type": "stream",
     "text": [
      "\n",
      "🔍 유사도 테스트\n",
      "\n",
      "질문: 관세법 제97조 재수출면세 대상 및 재수출 시기\n",
      "📊 유사도 점수: 1.00\n",
      "⚡ 캐시 HIT (유사도 1.00) [source=pdf_pre_cache]\n",
      "응답: [재수출면세 대상]\n",
      "\n",
      "질문: 재수출면세 대상 알려줘\n",
      "📊 유사도 점수: 0.65\n",
      "⚡ 캐시 HIT (유사도 0.65) [source=pdf_pre_cache]\n",
      "응답: [재수출면세 대상]\n",
      "\n",
      "질문: 면세 한도 금액은 얼마야?\n",
      "📊 유사도 점수: 0.82\n",
      "⚡ 캐시 HIT (유사도 0.82) [source=pdf_pre_cache]\n",
      "응답: 여행자가 해외(국내·외 면세점 포함)에서 취득(구입·선물 포함)한 물품을\n",
      "국내로 휴대하여 반입할 때 해외에서 취득한 물품 가격의 총합이 미화\n",
      "800달러 이하인 경우 관세가 면제됩니\n"
     ]
    }
   ],
   "source": [
    "# ------------------------------------------------------------\n",
    "# 🔍 테스트 (유사도 점검용)\n",
    "# ------------------------------------------------------------\n",
    "print(\"\\n🔍 유사도 테스트\")\n",
    "for q in [\n",
    "    \"관세법 제97조 재수출면세 대상 및 재수출 시기\",\n",
    "    \"재수출면세 대상 알려줘\",\n",
    "    \"면세 한도 금액은 얼마야?\"\n",
    "]:\n",
    "    print(f\"\\n질문: {q}\")\n",
    "    cached = check_cache(q)\n",
    "    print(\"응답:\", cached[:100] if cached else \"MISS\")"
   ]
  },
  {
   "cell_type": "code",
   "execution_count": 83,
   "id": "90e76142",
   "metadata": {},
   "outputs": [
    {
     "name": "stdout",
     "output_type": "stream",
     "text": [
      "🔍 유사도 테스트\n",
      "\n",
      "질문: 관세법 제97조 재수출면세 대상 및 재수출 시기\n",
      "📊 유사도 점수: 1.00\n",
      "⚡ 캐시 HIT (유사도 1.00) [source=pdf_pre_cache]\n",
      "응답: [재수출면세 대상]\n",
      "\n",
      "질문: 재수출면세 대상 알려줘\n",
      "📊 유사도 점수: 0.65\n",
      "⚡ 캐시 HIT (유사도 0.65) [source=pdf_pre_cache]\n",
      "응답: [재수출면세 대상]\n",
      "\n",
      "질문: 면세 한도 금액은 얼마야?\n",
      "📊 유사도 점수: 0.82\n",
      "⚡ 캐시 HIT (유사도 0.82) [source=pdf_pre_cache]\n",
      "응답: 여행자가 해외(국내·외 면세점 포함)에서 취득(구입·선물 포함)한 물품을\n",
      "국내로 휴대하여 반입할 때 해외에서 취득한 물품 가격의 총합이 미화\n",
      "800달러 이하인 경우 관세가 면제됩니\n"
     ]
    }
   ],
   "source": [
    "print(\"🔍 유사도 테스트\")\n",
    "for q in [\n",
    "    \"관세법 제97조 재수출면세 대상 및 재수출 시기\",\n",
    "    \"재수출면세 대상 알려줘\",\n",
    "    \"면세 한도 금액은 얼마야?\"\n",
    "]:\n",
    "    print(f\"\\n질문: {q}\")\n",
    "    cached = check_cache(q)\n",
    "    print(\"응답:\", cached[:100] if cached else \"MISS\")\n"
   ]
  },
  {
   "cell_type": "code",
   "execution_count": 84,
   "id": "475d56cf",
   "metadata": {},
   "outputs": [
    {
     "name": "stdout",
     "output_type": "stream",
     "text": [
      "\n",
      "🔍 '재수출면세 대상 알려줘' 유사도 검사 결과:\n",
      " 1. 유사도=0.65 | source=pdf_pre_cache | 내용: [재수출면세 대상]...\n",
      " 2. 유사도=0.64 | source=pdf_pre_cache | 내용: 수입통관에 곤란한 사유가 없는 물품으로서 아래의 어느 하나에 해당하는 경우에는 납부하여야 할 관세 등에 상당하는 담보를 제공하고 세관장의 승인을...\n",
      " 3. 유사도=0.62 | source=pdf_pre_cache | 내용: 사...\n"
     ]
    }
   ],
   "source": [
    "def debug_cache_search(user_query, k=3):\n",
    "    q_emb = embed(user_query)\n",
    "    q = Query(f\"*=>[KNN {k} @embedding $vec AS score]\") \\\n",
    "        .return_fields(\"text\", \"source\", \"score\") \\\n",
    "        .sort_by(\"score\") \\\n",
    "        .dialect(2)\n",
    "\n",
    "    res = r.ft(CACHE_INDEX).search(q, query_params={\"vec\": q_emb})\n",
    "    print(f\"\\n🔍 '{user_query}' 유사도 검사 결과:\")\n",
    "    for i, doc in enumerate(res.docs):\n",
    "        sim = 1 - float(doc.score)\n",
    "        preview = doc.text[:80].replace(\"\\n\", \" \")\n",
    "        print(f\" {i+1}. 유사도={sim:.2f} | source={doc.source} | 내용: {preview}...\")\n",
    "\n",
    "# 실행 예시\n",
    "debug_cache_search(\"재수출면세 대상 알려줘\")\n"
   ]
  },
  {
   "cell_type": "code",
   "execution_count": 85,
   "id": "b7c7df6f",
   "metadata": {},
   "outputs": [
    {
     "name": "stdout",
     "output_type": "stream",
     "text": [
      "\n",
      "👤 사용자 질문: 면세 물품을 재수출할 때 세관 신고 절차는?\n",
      "📊 유사도 점수: 0.77\n",
      "⚡ 캐시 HIT (유사도 0.77) [source=pdf_pre_cache]\n",
      "(캐시 응답)\n",
      "다음에 해당하는 물품을 소지한 여행자와 승무원은 세관에 자진 신고하여야\n",
      "합니다.\n",
      "1. 해외에서 취득한 물품(선물 등 무상물품 및 국내 면세점에서 취득 후\n",
      "재반입하는 물품을 포함)으로서 전체 취득가격 합계액이 미화 800달러를\n",
      "초과하는 물품 및 1명당 면세기준을 초과하는 주류, 담배, 향수\n",
      "2. 상용물품과 수리용품, 견본품 등 회사용품\n",
      "3. 총포·도검·화약류·분사기·전자충격기·석궁(부분품, 모의 또는 장식용을 포\n",
      "함한다), 유독성 또는 방사성 물질류 및 감청설비\n",
      "4. 앵속·아편·코카잎 등 마약류, 향정신성 의약품류, 대마류 및 이들의 제품,\n",
      "오·남용 우려가 있는 의약품류\n",
      "5. 국헌·공안·풍속을 저해하는 서적·사진·비디오테이프·필름·LD·CD·CD-ROM\n",
      "등의 물품\n",
      "6. 정부의 기밀을 누설하거나 첩보에 사용되는 물품\n",
      "7. 위조·변조·모조의 화폐·지폐·은행권·채권 및 그 밖의 유가증권\n",
      "8. 동물(고기·가죽·털을 포함한다), 식물, 과일, 채소류, 살아있는 수산생물,\n",
      "농림축수산물(가공품을 포함한다), 그 밖의 식품류\n",
      "9. 「멸종위기에 처한 야생 동·식물종의 국제 거래에 관한 협약(CITES)」에서\n",
      "보호하는 살아있는 야생 동·식물 및 이들을 사용하여 만든 제품·가공품\n",
      "10. 상표권 등 지식재산권 침해물품\n",
      "11. 일시 출국하는 여행자 및 승무원이 출국 시 휴대반출신고하여 반출했다가\n",
      "재반입하는 물품\n",
      "관련법령\n",
      "● 관세법 제241조, 「여행자및승무원휴대품통관에관한고시」 제5조\n",
      "PART 1 통 관|195\n",
      "\n",
      "[표 데이터]\n",
      "\n",
      "통\n",
      "관\n"
     ]
    }
   ],
   "source": [
    "query = \"면세 물품을 재수출할 때 세관 신고 절차는?\"\n",
    "print(ask(query))\n"
   ]
  },
  {
   "cell_type": "code",
   "execution_count": 80,
   "id": "87b9d039",
   "metadata": {},
   "outputs": [
    {
     "name": "stdout",
     "output_type": "stream",
     "text": [
      "\n",
      "👤 사용자 질문: 면세 담배 구입 기준이 어떻게 돼?\n",
      "📊 유사도 점수: 0.79\n",
      "⚡ 캐시 HIT (유사도 0.79) [source=pdf_pre_cache]\n",
      "(캐시 응답)\n",
      "우리나라 거주자가 해외에서 발송되는 술, 담배를 국내로 반입하는 경우\n",
      "세관장이 자가사용 물품으로 인정하여 면세를 적용하는 기준은 아래와\n",
      "같습니다\n",
      "품목 물품가격 면세수량 비고\n",
      "주류 1병 (1L 이하) 주세, 교육세는 과세\n",
      "궐련 200개비\n",
      "엽궐련 50개비\n",
      "미화 150불 개별소비세,\n",
      "니코틴용액 20ml\n",
      "담배 이하 담배소비세,\n",
      "전자담배 궐련형 200개비\n",
      "지방교육세는 과세\n",
      "기타유형 110g\n",
      "기타담배 250g\n",
      "- 상기의 면세통관범위를 충족하지 못하는 경우에는 물품가격 전체에 대하여\n",
      "세금이 부과*됩니다.\n",
      "* 주류 : 관세, 주세, 교육세, 부가가치세 등\n",
      "담배 : 관세, 개별소비세, 담배소비세, 지방교육세, 부가가치세 등\n",
      "자가사용이 아닌 판매용인 경우 등 개별 법령에 따른 허가·승인 등의\n",
      "요건을 구비*하여야 하는 경우에는 해당 요건을 구비하였음을 증명하는\n",
      "서류를 제출해야 수입이 가능합니다.\n",
      "* 주류 : 수입식품안전관리특별법에 따른 지방식품의약품안전청장의 ‘수입식품등의\n",
      "수입신고 확인증’ \\\n",
      "전자담배용 니코틴 용액 : 니코틴을 1% 이상 함유한 혼합물인 경우 지방(유역)환\n",
      "경청장의 ‘유독물질 수입신고증’\n",
      "관련법령\n",
      "● 관세법 제94조제4호 및 관세법 시행규칙 제2항제1호\n",
      "● 수입통관 사무처리에 관한 고시 제67조 및 별표 11\n",
      "PART 1 통 관|023\n",
      "\n",
      "[표 데이터]\n",
      "\n",
      "통\n",
      "관\n",
      "\n",
      "품목 |  | 물품가격 | 면세수량 | 비고\n",
      "|  | 미화 150불\n",
      "이하 | 1병 (1L 이하) |\n",
      "| 궐련 |  | 200개비 |\n",
      "| 엽궐련 |  | 50개비 |\n",
      "| 전자담배 |  | 니코틴용액 20ml\n",
      "궐련형 200개비\n",
      "기타유형 110g |\n",
      "| 기타담배 |  | 250g |\n"
     ]
    }
   ],
   "source": [
    "query = \"면세 담배 구입 기준이 어떻게 돼?\"\n",
    "print(ask(query))\n"
   ]
  },
  {
   "cell_type": "code",
   "execution_count": 81,
   "id": "b7d553a2",
   "metadata": {},
   "outputs": [
    {
     "name": "stdout",
     "output_type": "stream",
     "text": [
      "\n",
      "👤 사용자 질문: 강아지 사료 영양성분은 어떻게 구성되나요?\n",
      "📊 유사도 점수: 0.67\n",
      "⚡ 캐시 HIT (유사도 0.67) [source=pdf_pre_cache]\n",
      "(캐시 응답)\n",
      "관세율표 제1214호에는 스위드(swede)ㆍ맹골드(mangold)ㆍ사료용 뿌리\n",
      "채소류(根菜類)ㆍ건초ㆍ루우산(lucerne)(알팔파)ㆍ클로버(clover)ㆍ샌포인\n",
      "(sainfoin)ㆍ사료용 케일(kale)ㆍ루핀(lupine)ㆍ베치(vetch)와 이와 유사한\n",
      "사료용 식물이 분류되며,\n",
      "- 같은 호 해설서에 스위드(rutabaga : Brassica napobrassica)ㆍ맹골드\n",
      "․\n",
      "(mangold)사료용 순무(turnips)ㆍ사료용 당근(백색이나 담황색)과 그 밖의\n",
      "사료용 뿌리채소류 이들 뿌리채소류는 식용에 적합한 것도 이 호에 분류\n",
      "된다고 규정하고 있습니다.\n",
      "- 이 호의 ‘유사한 사료용 식물’에는 동물사료용으로 재배된 식물에 한정하여\n",
      "적용하며, 또한 동물의 사료로 사용되는 것이라도 사료용으로 재배되지\n",
      "아니한 식물성 생산품(예: 비트(beet)ㆍ당근의 상부와 옥수수의 잎은\n",
      "제2308호에 분류)은 제외됩니다.\n",
      "관세율표 제2308호에는 사료용 식물성 물질ㆍ식물성 웨이스트ㆍ식물성 박\n",
      "(residue)류와 부산물이 분류되며, 동물의 사료용으로 사용되는 것이라도\n",
      "이 호에 분류됩니다.\n",
      "1) 도토리, 마로니에 열매, 면실피\n",
      "2) 낱알을 제거한 후의 옥수수 속대 ; 옥수수 줄기와 잎\n",
      "3) 사탕무나 당근의 꼭지\n",
      "4) 채소의 껍질(완두와 콩의 꼬투리 등)\n",
      "5) 과실 웨이스트(waste)(사과ㆍ배 등의 껍질과 속 등)와 과실의 찌꺼기\n",
      "(pomace or marc)\n",
      "관련법령\n",
      "● 관세법 제86조 제1항(특정물품에 적용될 품목분류의 사전심사)\n",
      "494|관세행정 민원상담 사례집\n"
     ]
    }
   ],
   "source": [
    "query = \"강아지 사료 영양성분은 어떻게 구성되나요?\"\n",
    "print(ask(query))\n"
   ]
  },
  {
   "cell_type": "code",
   "execution_count": 86,
   "id": "2f6b2373",
   "metadata": {},
   "outputs": [
    {
     "name": "stdout",
     "output_type": "stream",
     "text": [
      "\n",
      "👤 사용자 질문: 재수출 면제 대상에 대해 알려줄 수 있어?\n",
      "📊 유사도 점수: 0.70\n",
      "⚡ 캐시 HIT (유사도 0.70) [source=pdf_pre_cache]\n",
      "(캐시 응답)\n",
      "재수출 조건부 일시반입 제도는 우리나라를 일시 입국하는 여행자가\n",
      "사용할 물품에 대해 재수출하는 조건으로 세금을 면제해주는 ‘조건부\n",
      "면세제도’입니다.\n",
      "대상자 및 허용범위는 외국거주자 중 우리나라를 일시방문하는 자이거나\n",
      "우리나라 국적 소유자 중 교포, 유학생, 해외근무자 등 1년이상 외국에\n",
      "거주하는 자의 신변용품, 신변장식용품, 직업용품으로 한정(회사용물품은\n",
      "불가)하며, 반드시 재수출할 물품에 한해 엄격히 적용하고 있습니다.\n",
      "재수출면세기간은 1년 이내 최초 출국일까지이며, 1년의 범위 내에서\n",
      "연장이 가능하며, 반출기한 연장은 횟수에 제한은 없으나 전체 연장기간은\n",
      "1년을 초과할 수 없어 입국시부터 최초 출국시까지 최장 2년간 면세가\n",
      "가능합니다.\n",
      "여행자는 재수출 조건부 일시반입 허용일 이후 최초 출국하는 날에 일시반입한\n",
      "물품과 재수출조건 일시반입물품 확인서를 가지고 출국장에서 세관 직원에게\n",
      "확인을 받고 반출하여야 합니다.\n",
      "타인이 아닌 면세받은 여행자가 출국 시 반출확인을 직접 받아야 하며,\n",
      "기한 내 재반출을 이행하지 않은 경우 최초 조건부 면세받은 세액 전액과\n",
      "미반출에 대한 가산세 20%를 부과하여 추징합니다.\n",
      "관련법령\n",
      "● 관세법 제97조제1항제1호\n",
      "● 관세법 시행령 제115조제1항\n",
      "● 여행자 및 승무원 휴대품통관에 관한 고시 제60조~제63조\n",
      "216|관세행정 민원상담 사례집\n"
     ]
    }
   ],
   "source": [
    "query=\"재수출 면제 대상에 대해 알려줄 수 있어?\"\n",
    "print(ask(query))"
   ]
  },
  {
   "cell_type": "code",
   "execution_count": 87,
   "id": "bee537b4",
   "metadata": {},
   "outputs": [
    {
     "name": "stdout",
     "output_type": "stream",
     "text": [
      "\n",
      "👤 사용자 질문: 면세 주류 구입 기준이 어떻게 돼?\n",
      "📊 유사도 점수: 0.87\n",
      "⚡ 캐시 HIT (유사도 0.87) [source=pdf_pre_cache]\n",
      "(캐시 응답)\n",
      "여행자가 반입하는 술의 면세범위는 여행자 1명당 합계 용량이 2ℓ이하\n",
      "로서 총 가격이 미화 400달러 이하의 것 2병만 면세가 가능합니다.\n",
      "여행자가 입국 시 반입하는 술이 면세범위를 초과하는 경우 세관에\n",
      "신고하고 세금을 납부하면 통관이 가능합니다.\n",
      "- 단, 만 19세 미만인 사람(만 19세가 되는 해의 1월 1일을 맞이한 사람은\n",
      "제외)이 반입하는 술은 면세대상에 포함되지 않습니다.\n",
      "\\\n",
      "관련법령\n",
      "● 관세법 시행규칙 제48조\n",
      "204|관세행정 민원상담 사례집\n"
     ]
    }
   ],
   "source": [
    "query = \"면세 주류 구입 기준이 어떻게 돼?\"\n",
    "print(ask(query))\n"
   ]
  },
  {
   "cell_type": "code",
   "execution_count": null,
   "id": "e4c2a56f",
   "metadata": {},
   "outputs": [],
   "source": []
  }
 ],
 "metadata": {
  "kernelspec": {
   "display_name": ".venv",
   "language": "python",
   "name": "python3"
  },
  "language_info": {
   "codemirror_mode": {
    "name": "ipython",
    "version": 3
   },
   "file_extension": ".py",
   "mimetype": "text/x-python",
   "name": "python",
   "nbconvert_exporter": "python",
   "pygments_lexer": "ipython3",
   "version": "3.12.10"
  }
 },
 "nbformat": 4,
 "nbformat_minor": 5
}
